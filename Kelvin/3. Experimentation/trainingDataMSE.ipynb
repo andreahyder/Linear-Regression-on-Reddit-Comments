{
 "cells": [
  {
   "cell_type": "code",
   "execution_count": 1,
   "metadata": {},
   "outputs": [],
   "source": [
    "import numpy as np\n",
    "from functools import reduce"
   ]
  },
  {
   "cell_type": "code",
   "execution_count": 2,
   "metadata": {},
   "outputs": [],
   "source": [
    "def calculateMSE(X, y, w):\n",
    "    yApprox = np.matmul(X, w.transpose())\n",
    "    difference = np.subtract(y, yApprox)\n",
    "    squaredDifference = map(lambda x: x ** 2, difference)\n",
    "    MSE = reduce(lambda x, y: x + y, squaredDifference)/len(X)\n",
    "    return MSE"
   ]
  },
  {
   "cell_type": "code",
   "execution_count": 3,
   "metadata": {},
   "outputs": [
    {
     "name": "stdout",
     "output_type": "stream",
     "text": [
      "Weights 1 from NE Loaded\n",
      "\n",
      "MSE of Model 1 from NE: 1.0476309443364704\n"
     ]
    }
   ],
   "source": [
    "#MSE FOR DATASET 1 WITH NORMAL EQUATION LEARNING (PRESCRIBED DATASET + 160 WORD COUNT FEATURE)\n",
    "i = 1\n",
    "weights11 = []\n",
    "training_X = np.load(\"..\\\\1. Data Preprocessing\\\\training_data_X_\" + str(i) + \".npy\")\n",
    "training_Y = np.load(\"..\\\\1. Data Preprocessing\\\\training_data_Y_\" + str(i) + \".npy\")\n",
    "weights11 = np.load(\"..\\\\2. Data Processing\\\\weights_\" + str(i) + \"_from_NE.npy\")\n",
    "print(\"Weights \" + str(i) + \" from NE Loaded\\n\")\n",
    "\n",
    "MSE = calculateMSE(training_X, training_Y, weights11)\n",
    "print(\"MSE of Model \" + str(i) + \" from NE: \" + str(MSE))"
   ]
  },
  {
   "cell_type": "code",
   "execution_count": 4,
   "metadata": {},
   "outputs": [
    {
     "name": "stdout",
     "output_type": "stream",
     "text": [
      "Weights 1 from GD Loaded\n",
      "\n",
      "MSE of Model 1 from GD: 1.28306207245912\n"
     ]
    }
   ],
   "source": [
    "#MSE FOR DATASET 1 WITH GRADIENT DESCENT LEARNING (PRESCRIBED DATASET + 160 WORD COUNT FEATURE)\n",
    "i = 1\n",
    "weights12 = []\n",
    "training_X = np.load(\"..\\\\1. Data Preprocessing\\\\training_data_X_\" + str(i) + \".npy\")\n",
    "training_Y = np.load(\"..\\\\1. Data Preprocessing\\\\training_data_Y_\" + str(i) + \".npy\")\n",
    "weights12 = np.load(\"..\\\\2. Data Processing\\\\weights_\" + str(i) + \"_from_GD.npy\")\n",
    "print(\"Weights \" + str(i) + \" from GD Loaded\\n\")\n",
    "\n",
    "MSE = calculateMSE(training_X, training_Y, weights12)\n",
    "print(\"MSE of Model \" + str(i) + \" from GD: \" + str(MSE))"
   ]
  },
  {
   "cell_type": "code",
   "execution_count": 5,
   "metadata": {},
   "outputs": [
    {
     "name": "stdout",
     "output_type": "stream",
     "text": [
      "Weights 2 from NE Loaded\n",
      "\n",
      "MSE of Model 2 from NE: 1.0593168414585252\n"
     ]
    }
   ],
   "source": [
    "#MSE FOR DATASET 2 WITH NORMAL EQUATION LEARNING (PRESCRIBED DATASET + 60 WORD COUNT FEATURE)\n",
    "i = 2\n",
    "weights21 = []\n",
    "training_X = np.load(\"..\\\\1. Data Preprocessing\\\\training_data_X_\" + str(i) + \".npy\")\n",
    "training_Y = np.load(\"..\\\\1. Data Preprocessing\\\\training_data_Y_\" + str(i) + \".npy\")\n",
    "weights21 = np.load(\"..\\\\2. Data Processing\\\\weights_\" + str(i) + \"_from_NE.npy\")\n",
    "print(\"Weights \" + str(i) + \" from NE Loaded\\n\")\n",
    "\n",
    "MSE = calculateMSE(training_X, training_Y, weights21)\n",
    "print(\"MSE of Model \" + str(i) + \" from NE: \" + str(MSE))"
   ]
  },
  {
   "cell_type": "code",
   "execution_count": 6,
   "metadata": {},
   "outputs": [
    {
     "name": "stdout",
     "output_type": "stream",
     "text": [
      "Weights 2 from GD Loaded\n",
      "\n",
      "MSE of Model 2 from GD: 1.0932454140009222\n"
     ]
    }
   ],
   "source": [
    "#MSE FOR DATASET 2 WITH GRADIENT DESCENT LEARNING (PRESCRIBED DATASET + 60 WORD COUNT FEATURE)\n",
    "i = 2\n",
    "weights22 = []\n",
    "training_X = np.load(\"..\\\\1. Data Preprocessing\\\\training_data_X_\" + str(i) + \".npy\")\n",
    "training_Y = np.load(\"..\\\\1. Data Preprocessing\\\\training_data_Y_\" + str(i) + \".npy\")\n",
    "weights22 = np.load(\"..\\\\2. Data Processing\\\\weights_\" + str(i) + \"_from_GD.npy\")\n",
    "print(\"Weights \" + str(i) + \" from GD Loaded\\n\")\n",
    "\n",
    "MSE = calculateMSE(training_X, training_Y, weights22)\n",
    "print(\"MSE of Model \" + str(i) + \" from GD: \" + str(MSE))"
   ]
  },
  {
   "cell_type": "code",
   "execution_count": 7,
   "metadata": {},
   "outputs": [
    {
     "name": "stdout",
     "output_type": "stream",
     "text": [
      "Weights 3 from NE Loaded\n",
      "\n",
      "MSE of Model 3 from NE: 1.0476259704323907\n"
     ]
    }
   ],
   "source": [
    "#MSE FOR DATASET 3 WITH NORMAL EQUATION LEARNING (PRESCRIBED DATASET + 160 WORD COUNT FEATURE + 2 ADDITIONAL FEATURES)\n",
    "i = 3\n",
    "weights31 = []\n",
    "training_X = np.load(\"..\\\\1. Data Preprocessing\\\\training_data_X_\" + str(i) + \".npy\")\n",
    "training_Y = np.load(\"..\\\\1. Data Preprocessing\\\\training_data_Y_\" + str(i) + \".npy\")\n",
    "weights31 = np.load(\"..\\\\2. Data Processing\\\\weights_\" + str(i) + \"_from_NE.npy\")\n",
    "print(\"Weights \" + str(i) + \" from NE Loaded\\n\")\n",
    "\n",
    "MSE = calculateMSE(training_X, training_Y, weights31)\n",
    "print(\"MSE of Model \" + str(i) + \" from NE: \" + str(MSE))"
   ]
  },
  {
   "cell_type": "code",
   "execution_count": 8,
   "metadata": {},
   "outputs": [
    {
     "name": "stdout",
     "output_type": "stream",
     "text": [
      "Weights 3 from GD Loaded\n",
      "\n",
      "MSE of Model 3 from GD: 7.892135349073914\n"
     ]
    }
   ],
   "source": [
    "#MSE FOR DATASET 3 WITH GRADIENT DESCENT LEARNING (PRESCRIBED DATASET + 160 WORD COUNT FEATURE + 2 ADDITIONAL FEATURES)\n",
    "i = 3\n",
    "weights32 = []\n",
    "training_X = np.load(\"..\\\\1. Data Preprocessing\\\\training_data_X_\" + str(i) + \".npy\")\n",
    "training_Y = np.load(\"..\\\\1. Data Preprocessing\\\\training_data_Y_\" + str(i) + \".npy\")\n",
    "weights32 = np.load(\"..\\\\2. Data Processing\\\\weights_\" + str(i) + \"_from_GD.npy\")\n",
    "print(\"Weights \" + str(i) + \" from GD Loaded\\n\")\n",
    "\n",
    "MSE = calculateMSE(training_X, training_Y, weights32)\n",
    "print(\"MSE of Model \" + str(i) + \" from GD: \" + str(MSE))"
   ]
  },
  {
   "cell_type": "code",
   "execution_count": 9,
   "metadata": {},
   "outputs": [
    {
     "name": "stdout",
     "output_type": "stream",
     "text": [
      "Weights 4 from NE Loaded\n",
      "\n",
      "MSE of Model 4 from NE: 1.0593077134312792\n"
     ]
    }
   ],
   "source": [
    "#MSE FOR DATASET 4 WITH NORMAL EQUATION LEARNING (PRESCRIBED DATASET + 60 WORD COUNT FEATURE + 2 ADDITIONAL FEATURES)\n",
    "i = 4\n",
    "weights41 = []\n",
    "training_X = np.load(\"..\\\\1. Data Preprocessing\\\\training_data_X_\" + str(i) + \".npy\")\n",
    "training_Y = np.load(\"..\\\\1. Data Preprocessing\\\\training_data_Y_\" + str(i) + \".npy\")\n",
    "weights41 = np.load(\"..\\\\2. Data Processing\\\\weights_\" + str(i) + \"_from_NE.npy\")\n",
    "print(\"Weights \" + str(i) + \" from NE Loaded\\n\")\n",
    "\n",
    "MSE = calculateMSE(training_X, training_Y, weights41)\n",
    "print(\"MSE of Model \" + str(i) + \" from NE: \" + str(MSE))"
   ]
  },
  {
   "cell_type": "code",
   "execution_count": 10,
   "metadata": {},
   "outputs": [
    {
     "name": "stdout",
     "output_type": "stream",
     "text": [
      "Weights 4 from GD Loaded\n",
      "\n",
      "MSE of Model 4 from GD: 5.493611411623623\n"
     ]
    }
   ],
   "source": [
    "#MSE FOR DATASET 4 WITH GRADIENT DESCENT LEARNING (PRESCRIBED DATASET + 60 WORD COUNT FEATURE + 2 ADDITIONAL FEATURES)\n",
    "i = 4\n",
    "weights42 = []\n",
    "training_X = np.load(\"..\\\\1. Data Preprocessing\\\\training_data_X_\" + str(i) + \".npy\")\n",
    "training_Y = np.load(\"..\\\\1. Data Preprocessing\\\\training_data_Y_\" + str(i) + \".npy\")\n",
    "weights42 = np.load(\"..\\\\2. Data Processing\\\\weights_\" + str(i) + \"_from_GD.npy\")\n",
    "print(\"Weights \" + str(i) + \" from GD Loaded\\n\")\n",
    "\n",
    "MSE = calculateMSE(training_X, training_Y, weights42)\n",
    "print(\"MSE of Model \" + str(i) + \" from GD: \" + str(MSE))"
   ]
  },
  {
   "cell_type": "code",
   "execution_count": 11,
   "metadata": {},
   "outputs": [
    {
     "name": "stdout",
     "output_type": "stream",
     "text": [
      "Weights 5 from NE Loaded\n",
      "\n",
      "MSE of Model 5 from NE: 1.084683070915726\n"
     ]
    }
   ],
   "source": [
    "#MSE FOR DATASET 5 WITH NORMAL EQUATION LEARNING (PRESCRIBED DATASET EXCLUDING TEXT FEATURES)\n",
    "i = 5\n",
    "weights51 = []\n",
    "training_X = np.load(\"..\\\\1. Data Preprocessing\\\\training_data_X_\" + str(i) + \".npy\")\n",
    "training_Y = np.load(\"..\\\\1. Data Preprocessing\\\\training_data_Y_\" + str(i) + \".npy\")\n",
    "weights51 = np.load(\"..\\\\2. Data Processing\\\\weights_\" + str(i) + \"_from_NE.npy\")\n",
    "print(\"Weights \" + str(i) + \" from NE Loaded\\n\")\n",
    "\n",
    "MSE = calculateMSE(training_X, training_Y, weights51)\n",
    "print(\"MSE of Model \" + str(i) + \" from NE: \" + str(MSE))"
   ]
  },
  {
   "cell_type": "code",
   "execution_count": 12,
   "metadata": {},
   "outputs": [
    {
     "name": "stdout",
     "output_type": "stream",
     "text": [
      "Weights 5 from GD Loaded\n",
      "\n",
      "MSE of Model 5 from GD: 3.3660604212457312\n"
     ]
    }
   ],
   "source": [
    "#MSE FOR DATASET 5 WITH GRADIENT DESCENT LEARNING (PRESCRIBED DATASET EXCLUDING TEXT FEATURES)\n",
    "i = 5\n",
    "weights52 = []\n",
    "training_X = np.load(\"..\\\\1. Data Preprocessing\\\\training_data_X_\" + str(i) + \".npy\")\n",
    "training_Y = np.load(\"..\\\\1. Data Preprocessing\\\\training_data_Y_\" + str(i) + \".npy\")\n",
    "weights52 = np.load(\"..\\\\2. Data Processing\\\\weights_\" + str(i) + \"_from_GD.npy\")\n",
    "print(\"Weights \" + str(i) + \" from GD Loaded\\n\")\n",
    "\n",
    "MSE = calculateMSE(training_X, training_Y, weights52)\n",
    "print(\"MSE of Model \" + str(i) + \" from GD: \" + str(MSE))"
   ]
  },
  {
   "cell_type": "code",
   "execution_count": 13,
   "metadata": {},
   "outputs": [
    {
     "name": "stdout",
     "output_type": "stream",
     "text": [
      "Weights 6 from NE Loaded\n",
      "\n",
      "MSE of Model 6 from NE: 1.0831489552678735\n"
     ]
    }
   ],
   "source": [
    "#MSE FOR DATASET 6 WITH NORMAL EQUATION LEARNING\n",
    "i = 6\n",
    "weights61 = []\n",
    "training_X = np.load(\"..\\\\1. Data Preprocessing\\\\training_data_X_\" + str(i) + \".npy\")\n",
    "training_Y = np.load(\"..\\\\1. Data Preprocessing\\\\training_data_Y_\" + str(i) + \".npy\")\n",
    "weights61 = np.load(\"..\\\\2. Data Processing\\\\weights_\" + str(i) + \"_from_NE.npy\")\n",
    "print(\"Weights \" + str(i) + \" from NE Loaded\\n\")\n",
    "\n",
    "MSE = calculateMSE(training_X, training_Y, weights61)\n",
    "print(\"MSE of Model \" + str(i) + \" from NE: \" + str(MSE))"
   ]
  },
  {
   "cell_type": "code",
   "execution_count": 14,
   "metadata": {},
   "outputs": [
    {
     "name": "stdout",
     "output_type": "stream",
     "text": [
      "Weights 6 from GD Loaded\n",
      "\n",
      "MSE of Model 6 from GD: 2.055785410618448\n"
     ]
    }
   ],
   "source": [
    "#MSE FOR DATASET 6 WITH GRADIENT DESCENT LEARNING\n",
    "i = 6\n",
    "weights62 = []\n",
    "training_X = np.load(\"..\\\\1. Data Preprocessing\\\\training_data_X_\" + str(i) + \".npy\")\n",
    "training_Y = np.load(\"..\\\\1. Data Preprocessing\\\\training_data_Y_\" + str(i) + \".npy\")\n",
    "weights62 = np.load(\"..\\\\2. Data Processing\\\\weights_\" + str(i) + \"_from_GD.npy\")\n",
    "print(\"Weights \" + str(i) + \" from GD Loaded\\n\")\n",
    "\n",
    "MSE = calculateMSE(training_X, training_Y, weights62)\n",
    "print(\"MSE of Model \" + str(i) + \" from GD: \" + str(MSE))"
   ]
  }
 ],
 "metadata": {
  "kernelspec": {
   "display_name": "Python 3",
   "language": "python",
   "name": "python3"
  },
  "language_info": {
   "codemirror_mode": {
    "name": "ipython",
    "version": 3
   },
   "file_extension": ".py",
   "mimetype": "text/x-python",
   "name": "python",
   "nbconvert_exporter": "python",
   "pygments_lexer": "ipython3",
   "version": "3.7.0"
  }
 },
 "nbformat": 4,
 "nbformat_minor": 2
}
