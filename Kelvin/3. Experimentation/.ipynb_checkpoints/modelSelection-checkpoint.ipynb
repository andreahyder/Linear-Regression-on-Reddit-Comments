{
 "cells": [
  {
   "cell_type": "code",
   "execution_count": 11,
   "metadata": {},
   "outputs": [],
   "source": [
    "import numpy as np\n",
    "from functools import reduce"
   ]
  },
  {
   "cell_type": "code",
   "execution_count": 12,
   "metadata": {},
   "outputs": [],
   "source": [
    "def calculateMSE(X, y, w):\n",
    "    yApprox = np.matmul(X, w.transpose())\n",
    "    difference = np.subtract(y, yApprox)\n",
    "    squaredDifference = map(lambda x: x ** 2, difference)\n",
    "    return reduce(lambda x, y: x + y, squaredDifference)"
   ]
  },
  {
   "cell_type": "code",
   "execution_count": 13,
   "metadata": {},
   "outputs": [
    {
     "name": "stdout",
     "output_type": "stream",
     "text": [
      "Dataset 1 Loaded\n",
      "\n",
      "MSE of Dataset 1: 996.3854642576891\n"
     ]
    }
   ],
   "source": [
    "#MSE FOR DATASET 1 WITH NORMAL EQUATION LEARNING (PRESCRIBED DATASET + 160 WORD COUNT FEATURE)\n",
    "i = 1\n",
    "weights11 = []\n",
    "cross_validation_X = np.load(\"..\\\\1. Data Preprocessing\\\\cross_validation_data_X_\" + str(i) + \".npy\")\n",
    "cross_validation_Y = np.load(\"..\\\\1. Data Preprocessing\\\\cross_validation_data_Y_\" + str(i) + \".npy\")\n",
    "weights11 = np.load(\"..\\\\2. Data Processing\\\\weights_\" + str(i) + \"_from_NE.npy\")\n",
    "print(\"Dataset \" + str(i) + \" Loaded\\n\")\n",
    "\n",
    "MSE = calculateMSE(cross_validation_X, cross_validation_Y, weights11)\n",
    "print(\"MSE of Dataset \" + str(i) + \": \" + str(MSE))"
   ]
  },
  {
   "cell_type": "code",
   "execution_count": 14,
   "metadata": {},
   "outputs": [
    {
     "name": "stdout",
     "output_type": "stream",
     "text": [
      "Dataset 1 Loaded\n",
      "\n",
      "MSE of Dataset 1: 1529.9481660261556\n"
     ]
    }
   ],
   "source": [
    "#MSE FOR DATASET 1 WITH GRADIENT DESCENT LEARNING (PRESCRIBED DATASET + 160 WORD COUNT FEATURE)\n",
    "i = 1\n",
    "weights12 = []\n",
    "cross_validation_X = np.load(\"..\\\\1. Data Preprocessing\\\\cross_validation_data_X_\" + str(i) + \".npy\")\n",
    "cross_validation_Y = np.load(\"..\\\\1. Data Preprocessing\\\\cross_validation_data_Y_\" + str(i) + \".npy\")\n",
    "weights12 = np.load(\"..\\\\2. Data Processing\\\\weights_\" + str(i) + \"_from_GD.npy\")\n",
    "print(\"Dataset \" + str(i) + \" Loaded\\n\")\n",
    "\n",
    "MSE = calculateMSE(cross_validation_X, cross_validation_Y, weights12)\n",
    "print(\"MSE of Dataset \" + str(i) + \": \" + str(MSE))"
   ]
  },
  {
   "cell_type": "code",
   "execution_count": 15,
   "metadata": {},
   "outputs": [
    {
     "name": "stdout",
     "output_type": "stream",
     "text": [
      "Dataset 2 Loaded\n",
      "\n",
      "MSE of Dataset 2: 969.2867641840129\n"
     ]
    }
   ],
   "source": [
    "#MSE FOR DATASET 2 WITH NORMAL EQUATION LEARNING (PRESCRIBED DATASET + 60 WORD COUNT FEATURE)\n",
    "i = 2\n",
    "weights21 = []\n",
    "cross_validation_X = np.load(\"..\\\\1. Data Preprocessing\\\\cross_validation_data_X_\" + str(i) + \".npy\")\n",
    "cross_validation_Y = np.load(\"..\\\\1. Data Preprocessing\\\\cross_validation_data_Y_\" + str(i) + \".npy\")\n",
    "weights21 = np.load(\"..\\\\2. Data Processing\\\\weights_\" + str(i) + \"_from_NE.npy\")\n",
    "print(\"Dataset \" + str(i) + \" Loaded\\n\")\n",
    "\n",
    "MSE = calculateMSE(cross_validation_X, cross_validation_Y, weights21)\n",
    "print(\"MSE of Dataset \" + str(i) + \": \" + str(MSE))"
   ]
  },
  {
   "cell_type": "code",
   "execution_count": 16,
   "metadata": {},
   "outputs": [
    {
     "name": "stdout",
     "output_type": "stream",
     "text": [
      "Dataset 2 Loaded\n",
      "\n",
      "MSE of Dataset 2: 995.1781452539258\n"
     ]
    }
   ],
   "source": [
    "#MSE FOR DATASET 2 WITH GRADIENT DESCENT LEARNING (PRESCRIBED DATASET + 60 WORD COUNT FEATURE)\n",
    "i = 2\n",
    "weights22 = []\n",
    "cross_validation_X = np.load(\"..\\\\1. Data Preprocessing\\\\cross_validation_data_X_\" + str(i) + \".npy\")\n",
    "cross_validation_Y = np.load(\"..\\\\1. Data Preprocessing\\\\cross_validation_data_Y_\" + str(i) + \".npy\")\n",
    "weights22 = np.load(\"..\\\\2. Data Processing\\\\weights_\" + str(i) + \"_from_GD.npy\")\n",
    "print(\"Dataset \" + str(i) + \" Loaded\\n\")\n",
    "\n",
    "MSE = calculateMSE(cross_validation_X, cross_validation_Y, weights22)\n",
    "print(\"MSE of Dataset \" + str(i) + \": \" + str(MSE))"
   ]
  },
  {
   "cell_type": "code",
   "execution_count": 17,
   "metadata": {},
   "outputs": [
    {
     "name": "stdout",
     "output_type": "stream",
     "text": [
      "Dataset 3 Loaded\n",
      "\n",
      "MSE of Dataset 3: 996.2576430964589\n"
     ]
    }
   ],
   "source": [
    "#MSE FOR DATASET 3 WITH NORMAL EQUATION LEARNING (PRESCRIBED DATASET + 160 WORD COUNT FEATURE + 2 ADDITIONAL FEATURES)\n",
    "i = 3\n",
    "weights31 = []\n",
    "cross_validation_X = np.load(\"..\\\\1. Data Preprocessing\\\\cross_validation_data_X_\" + str(i) + \".npy\")\n",
    "cross_validation_Y = np.load(\"..\\\\1. Data Preprocessing\\\\cross_validation_data_Y_\" + str(i) + \".npy\")\n",
    "weights31 = np.load(\"..\\\\2. Data Processing\\\\weights_\" + str(i) + \"_from_NE.npy\")\n",
    "print(\"Dataset \" + str(i) + \" Loaded\\n\")\n",
    "\n",
    "MSE = calculateMSE(cross_validation_X, cross_validation_Y, weights31)\n",
    "print(\"MSE of Dataset \" + str(i) + \": \" + str(MSE))"
   ]
  },
  {
   "cell_type": "code",
   "execution_count": 18,
   "metadata": {},
   "outputs": [
    {
     "name": "stdout",
     "output_type": "stream",
     "text": [
      "Dataset 3 Loaded\n",
      "\n",
      "MSE of Dataset 3: 6256.249784664206\n"
     ]
    }
   ],
   "source": [
    "#MSE FOR DATASET 3 WITH GRADIENT DESCENT LEARNING (PRESCRIBED DATASET + 160 WORD COUNT FEATURE + 2 ADDITIONAL FEATURES)\n",
    "i = 3\n",
    "weights32 = []\n",
    "cross_validation_X = np.load(\"..\\\\1. Data Preprocessing\\\\cross_validation_data_X_\" + str(i) + \".npy\")\n",
    "cross_validation_Y = np.load(\"..\\\\1. Data Preprocessing\\\\cross_validation_data_Y_\" + str(i) + \".npy\")\n",
    "weights32 = np.load(\"..\\\\2. Data Processing\\\\weights_\" + str(i) + \"_from_GD.npy\")\n",
    "print(\"Dataset \" + str(i) + \" Loaded\\n\")\n",
    "\n",
    "MSE = calculateMSE(cross_validation_X, cross_validation_Y, weights32)\n",
    "print(\"MSE of Dataset \" + str(i) + \": \" + str(MSE))"
   ]
  },
  {
   "cell_type": "code",
   "execution_count": 19,
   "metadata": {},
   "outputs": [
    {
     "name": "stdout",
     "output_type": "stream",
     "text": [
      "Dataset 4 Loaded\n",
      "\n",
      "MSE of Dataset 4: 969.2101577127295\n"
     ]
    }
   ],
   "source": [
    "#MSE FOR DATASET 4 WITH NORMAL EQUATION LEARNING (PRESCRIBED DATASET + 60 WORD COUNT FEATURE + 2 ADDITIONAL FEATURES)\n",
    "i = 4\n",
    "weights41 = []\n",
    "cross_validation_X = np.load(\"..\\\\1. Data Preprocessing\\\\cross_validation_data_X_\" + str(i) + \".npy\")\n",
    "cross_validation_Y = np.load(\"..\\\\1. Data Preprocessing\\\\cross_validation_data_Y_\" + str(i) + \".npy\")\n",
    "weights41 = np.load(\"..\\\\2. Data Processing\\\\weights_\" + str(i) + \"_from_NE.npy\")\n",
    "print(\"Dataset \" + str(i) + \" Loaded\\n\")\n",
    "\n",
    "MSE = calculateMSE(cross_validation_X, cross_validation_Y, weights41)\n",
    "print(\"MSE of Dataset \" + str(i) + \": \" + str(MSE))"
   ]
  },
  {
   "cell_type": "code",
   "execution_count": 20,
   "metadata": {},
   "outputs": [
    {
     "name": "stdout",
     "output_type": "stream",
     "text": [
      "Dataset 4 Loaded\n",
      "\n",
      "MSE of Dataset 4: 5602.27576969785\n"
     ]
    }
   ],
   "source": [
    "#MSE FOR DATASET 4 WITH GRADIENT DESCENT LEARNING (PRESCRIBED DATASET + 60 WORD COUNT FEATURE + 2 ADDITIONAL FEATURES)\n",
    "i = 4\n",
    "weights42 = []\n",
    "cross_validation_X = np.load(\"..\\\\1. Data Preprocessing\\\\cross_validation_data_X_\" + str(i) + \".npy\")\n",
    "cross_validation_Y = np.load(\"..\\\\1. Data Preprocessing\\\\cross_validation_data_Y_\" + str(i) + \".npy\")\n",
    "weights42 = np.load(\"..\\\\2. Data Processing\\\\weights_\" + str(i) + \"_from_GD.npy\")\n",
    "print(\"Dataset \" + str(i) + \" Loaded\\n\")\n",
    "\n",
    "MSE = calculateMSE(cross_validation_X, cross_validation_Y, weights42)\n",
    "print(\"MSE of Dataset \" + str(i) + \": \" + str(MSE))"
   ]
  },
  {
   "cell_type": "code",
   "execution_count": null,
   "metadata": {},
   "outputs": [],
   "source": []
  }
 ],
 "metadata": {
  "kernelspec": {
   "display_name": "Python 3",
   "language": "python",
   "name": "python3"
  },
  "language_info": {
   "codemirror_mode": {
    "name": "ipython",
    "version": 3
   },
   "file_extension": ".py",
   "mimetype": "text/x-python",
   "name": "python",
   "nbconvert_exporter": "python",
   "pygments_lexer": "ipython3",
   "version": "3.7.0"
  }
 },
 "nbformat": 4,
 "nbformat_minor": 2
}
