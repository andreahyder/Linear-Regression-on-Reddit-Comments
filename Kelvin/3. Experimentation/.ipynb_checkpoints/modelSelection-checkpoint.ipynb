{
 "cells": [
  {
   "cell_type": "code",
   "execution_count": 6,
   "metadata": {},
   "outputs": [],
   "source": [
    "import numpy as np\n",
    "from functools import reduce"
   ]
  },
  {
   "cell_type": "code",
   "execution_count": 7,
   "metadata": {},
   "outputs": [],
   "source": [
    "def calculateMSE(X, y, w):\n",
    "    yApprox = np.matmul(X, w.transpose())\n",
    "    difference = np.subtract(y, yApprox)\n",
    "    squaredDifference = map(lambda x: x ** 2, difference)\n",
    "    return reduce(lambda x, y: x + y, squaredDifference)"
   ]
  },
  {
   "cell_type": "code",
   "execution_count": 8,
   "metadata": {},
   "outputs": [
    {
     "name": "stdout",
     "output_type": "stream",
     "text": [
      "Weights 1 from NE Loaded\n",
      "\n",
      "MSE of Model 1 from NE: 996.3854642576891\n"
     ]
    }
   ],
   "source": [
    "#MSE FOR DATASET 1 WITH NORMAL EQUATION LEARNING (PRESCRIBED DATASET + 160 WORD COUNT FEATURE)\n",
    "i = 1\n",
    "weights11 = []\n",
    "cross_validation_X = np.load(\"..\\\\1. Data Preprocessing\\\\cross_validation_data_X_\" + str(i) + \".npy\")\n",
    "cross_validation_Y = np.load(\"..\\\\1. Data Preprocessing\\\\cross_validation_data_Y_\" + str(i) + \".npy\")\n",
    "weights11 = np.load(\"..\\\\2. Data Processing\\\\weights_\" + str(i) + \"_from_NE.npy\")\n",
    "print(\"Weights \" + str(i) + \" from NE Loaded\\n\")\n",
    "\n",
    "MSE = calculateMSE(cross_validation_X, cross_validation_Y, weights11)\n",
    "print(\"MSE of Model \" + str(i) + \" from NE: \" + str(MSE))"
   ]
  },
  {
   "cell_type": "code",
   "execution_count": 9,
   "metadata": {},
   "outputs": [
    {
     "name": "stdout",
     "output_type": "stream",
     "text": [
      "Weights 1 from GD Loaded\n",
      "\n",
      "MSE of Model 1 from GD: 1529.9481660261556\n"
     ]
    }
   ],
   "source": [
    "#MSE FOR DATASET 1 WITH GRADIENT DESCENT LEARNING (PRESCRIBED DATASET + 160 WORD COUNT FEATURE)\n",
    "i = 1\n",
    "weights12 = []\n",
    "cross_validation_X = np.load(\"..\\\\1. Data Preprocessing\\\\cross_validation_data_X_\" + str(i) + \".npy\")\n",
    "cross_validation_Y = np.load(\"..\\\\1. Data Preprocessing\\\\cross_validation_data_Y_\" + str(i) + \".npy\")\n",
    "weights12 = np.load(\"..\\\\2. Data Processing\\\\weights_\" + str(i) + \"_from_GD.npy\")\n",
    "print(\"Weights \" + str(i) + \" from GD Loaded\\n\")\n",
    "\n",
    "MSE = calculateMSE(cross_validation_X, cross_validation_Y, weights12)\n",
    "print(\"MSE of Model \" + str(i) + \" from GD: \" + str(MSE))"
   ]
  },
  {
   "cell_type": "code",
   "execution_count": 10,
   "metadata": {},
   "outputs": [
    {
     "name": "stdout",
     "output_type": "stream",
     "text": [
      "Weights 2 from NE Loaded\n",
      "\n",
      "MSE of Model 2 from NE: 969.2867641840129\n"
     ]
    }
   ],
   "source": [
    "#MSE FOR DATASET 2 WITH NORMAL EQUATION LEARNING (PRESCRIBED DATASET + 60 WORD COUNT FEATURE)\n",
    "i = 2\n",
    "weights21 = []\n",
    "cross_validation_X = np.load(\"..\\\\1. Data Preprocessing\\\\cross_validation_data_X_\" + str(i) + \".npy\")\n",
    "cross_validation_Y = np.load(\"..\\\\1. Data Preprocessing\\\\cross_validation_data_Y_\" + str(i) + \".npy\")\n",
    "weights21 = np.load(\"..\\\\2. Data Processing\\\\weights_\" + str(i) + \"_from_NE.npy\")\n",
    "print(\"Weights \" + str(i) + \" from NE Loaded\\n\")\n",
    "\n",
    "MSE = calculateMSE(cross_validation_X, cross_validation_Y, weights21)\n",
    "print(\"MSE of Model \" + str(i) + \" from NE: \" + str(MSE))"
   ]
  },
  {
   "cell_type": "code",
   "execution_count": 11,
   "metadata": {},
   "outputs": [
    {
     "name": "stdout",
     "output_type": "stream",
     "text": [
      "Weights 2 from GD Loaded\n",
      "\n",
      "MSE of Model 2 from GD: 995.1781452539258\n"
     ]
    }
   ],
   "source": [
    "#MSE FOR DATASET 2 WITH GRADIENT DESCENT LEARNING (PRESCRIBED DATASET + 60 WORD COUNT FEATURE)\n",
    "i = 2\n",
    "weights22 = []\n",
    "cross_validation_X = np.load(\"..\\\\1. Data Preprocessing\\\\cross_validation_data_X_\" + str(i) + \".npy\")\n",
    "cross_validation_Y = np.load(\"..\\\\1. Data Preprocessing\\\\cross_validation_data_Y_\" + str(i) + \".npy\")\n",
    "weights22 = np.load(\"..\\\\2. Data Processing\\\\weights_\" + str(i) + \"_from_GD.npy\")\n",
    "print(\"Weights \" + str(i) + \" from GD Loaded\\n\")\n",
    "\n",
    "MSE = calculateMSE(cross_validation_X, cross_validation_Y, weights22)\n",
    "print(\"MSE of Model \" + str(i) + \" from GD: \" + str(MSE))"
   ]
  },
  {
   "cell_type": "code",
   "execution_count": 12,
   "metadata": {},
   "outputs": [
    {
     "name": "stdout",
     "output_type": "stream",
     "text": [
      "Weights 3 from NE Loaded\n",
      "\n",
      "MSE of Model 3 from NE: 996.2576430964589\n"
     ]
    }
   ],
   "source": [
    "#MSE FOR DATASET 3 WITH NORMAL EQUATION LEARNING (PRESCRIBED DATASET + 160 WORD COUNT FEATURE + 2 ADDITIONAL FEATURES)\n",
    "i = 3\n",
    "weights31 = []\n",
    "cross_validation_X = np.load(\"..\\\\1. Data Preprocessing\\\\cross_validation_data_X_\" + str(i) + \".npy\")\n",
    "cross_validation_Y = np.load(\"..\\\\1. Data Preprocessing\\\\cross_validation_data_Y_\" + str(i) + \".npy\")\n",
    "weights31 = np.load(\"..\\\\2. Data Processing\\\\weights_\" + str(i) + \"_from_NE.npy\")\n",
    "print(\"Weights \" + str(i) + \" from NE Loaded\\n\")\n",
    "\n",
    "MSE = calculateMSE(cross_validation_X, cross_validation_Y, weights31)\n",
    "print(\"MSE of Model \" + str(i) + \" from NE: \" + str(MSE))"
   ]
  },
  {
   "cell_type": "code",
   "execution_count": 13,
   "metadata": {},
   "outputs": [
    {
     "name": "stdout",
     "output_type": "stream",
     "text": [
      "Weights 3 from GD Loaded\n",
      "\n",
      "MSE of Model 3 from GD: 6256.249784664206\n"
     ]
    }
   ],
   "source": [
    "#MSE FOR DATASET 3 WITH GRADIENT DESCENT LEARNING (PRESCRIBED DATASET + 160 WORD COUNT FEATURE + 2 ADDITIONAL FEATURES)\n",
    "i = 3\n",
    "weights32 = []\n",
    "cross_validation_X = np.load(\"..\\\\1. Data Preprocessing\\\\cross_validation_data_X_\" + str(i) + \".npy\")\n",
    "cross_validation_Y = np.load(\"..\\\\1. Data Preprocessing\\\\cross_validation_data_Y_\" + str(i) + \".npy\")\n",
    "weights32 = np.load(\"..\\\\2. Data Processing\\\\weights_\" + str(i) + \"_from_GD.npy\")\n",
    "print(\"Weights \" + str(i) + \" from GD Loaded\\n\")\n",
    "\n",
    "MSE = calculateMSE(cross_validation_X, cross_validation_Y, weights32)\n",
    "print(\"MSE of Model \" + str(i) + \" from GD: \" + str(MSE))"
   ]
  },
  {
   "cell_type": "code",
   "execution_count": 14,
   "metadata": {},
   "outputs": [
    {
     "name": "stdout",
     "output_type": "stream",
     "text": [
      "Weights 4 from NE Loaded\n",
      "\n",
      "MSE of Model 4 from NE: 969.2101577127295\n"
     ]
    }
   ],
   "source": [
    "#MSE FOR DATASET 4 WITH NORMAL EQUATION LEARNING (PRESCRIBED DATASET + 60 WORD COUNT FEATURE + 2 ADDITIONAL FEATURES)\n",
    "i = 4\n",
    "weights41 = []\n",
    "cross_validation_X = np.load(\"..\\\\1. Data Preprocessing\\\\cross_validation_data_X_\" + str(i) + \".npy\")\n",
    "cross_validation_Y = np.load(\"..\\\\1. Data Preprocessing\\\\cross_validation_data_Y_\" + str(i) + \".npy\")\n",
    "weights41 = np.load(\"..\\\\2. Data Processing\\\\weights_\" + str(i) + \"_from_NE.npy\")\n",
    "print(\"Weights \" + str(i) + \" from NE Loaded\\n\")\n",
    "\n",
    "MSE = calculateMSE(cross_validation_X, cross_validation_Y, weights41)\n",
    "print(\"MSE of Model \" + str(i) + \" from NE: \" + str(MSE))"
   ]
  },
  {
   "cell_type": "code",
   "execution_count": 15,
   "metadata": {},
   "outputs": [
    {
     "name": "stdout",
     "output_type": "stream",
     "text": [
      "Weights 4 from GD Loaded\n",
      "\n",
      "MSE of Model 4 from GD: 5602.27576969785\n"
     ]
    }
   ],
   "source": [
    "#MSE FOR DATASET 4 WITH GRADIENT DESCENT LEARNING (PRESCRIBED DATASET + 60 WORD COUNT FEATURE + 2 ADDITIONAL FEATURES)\n",
    "i = 4\n",
    "weights42 = []\n",
    "cross_validation_X = np.load(\"..\\\\1. Data Preprocessing\\\\cross_validation_data_X_\" + str(i) + \".npy\")\n",
    "cross_validation_Y = np.load(\"..\\\\1. Data Preprocessing\\\\cross_validation_data_Y_\" + str(i) + \".npy\")\n",
    "weights42 = np.load(\"..\\\\2. Data Processing\\\\weights_\" + str(i) + \"_from_GD.npy\")\n",
    "print(\"Weights \" + str(i) + \" from GD Loaded\\n\")\n",
    "\n",
    "MSE = calculateMSE(cross_validation_X, cross_validation_Y, weights42)\n",
    "print(\"MSE of Model \" + str(i) + \" from GD: \" + str(MSE))"
   ]
  },
  {
   "cell_type": "code",
   "execution_count": null,
   "metadata": {},
   "outputs": [],
   "source": []
  }
 ],
 "metadata": {
  "kernelspec": {
   "display_name": "Python 3",
   "language": "python",
   "name": "python3"
  },
  "language_info": {
   "codemirror_mode": {
    "name": "ipython",
    "version": 3
   },
   "file_extension": ".py",
   "mimetype": "text/x-python",
   "name": "python",
   "nbconvert_exporter": "python",
   "pygments_lexer": "ipython3",
   "version": "3.7.0"
  }
 },
 "nbformat": 4,
 "nbformat_minor": 2
}
