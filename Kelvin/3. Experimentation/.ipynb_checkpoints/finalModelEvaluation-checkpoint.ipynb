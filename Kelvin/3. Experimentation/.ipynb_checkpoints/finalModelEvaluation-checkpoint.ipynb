{
 "cells": [
  {
   "cell_type": "code",
   "execution_count": 18,
   "metadata": {},
   "outputs": [],
   "source": [
    "import numpy as np\n",
    "from functools import reduce"
   ]
  },
  {
   "cell_type": "code",
   "execution_count": 2,
   "metadata": {},
   "outputs": [],
   "source": [
    "def calculateMSE(X, y, w):\n",
    "    yApprox = np.matmul(X, w.transpose())\n",
    "    difference = np.subtract(y, yApprox)\n",
    "    squaredDifference = map(lambda x: x ** 2, difference)\n",
    "    MSE = reduce(lambda x, y: x + y, squaredDifference)/len(X)\n",
    "    return MSE"
   ]
  },
  {
   "cell_type": "code",
   "execution_count": 3,
   "metadata": {},
   "outputs": [
    {
     "name": "stdout",
     "output_type": "stream",
     "text": [
      "Weights 1 from NE Loaded\n",
      "\n",
      "MSE of Model 1 from NE: 0.9963854642576891\n"
     ]
    }
   ],
   "source": [
    "#MSE FOR DATASET 1 WITH NORMAL EQUATION LEARNING (PRESCRIBED DATASET + 160 WORD COUNT FEATURE)\n",
    "i = 1\n",
    "weights11 = []\n",
    "cross_validation_X = np.load(\"..\\\\1. Data Preprocessing\\\\cross_validation_data_X_\" + str(i) + \".npy\")\n",
    "cross_validation_Y = np.load(\"..\\\\1. Data Preprocessing\\\\cross_validation_data_Y_\" + str(i) + \".npy\")\n",
    "weights11 = np.load(\"..\\\\2. Data Processing\\\\weights_\" + str(i) + \"_from_NE.npy\")\n",
    "print(\"Weights \" + str(i) + \" from NE Loaded\\n\")\n",
    "\n",
    "MSE = calculateMSE(cross_validation_X, cross_validation_Y, weights11)\n",
    "print(\"MSE of Model \" + str(i) + \" from NE: \" + str(MSE))"
   ]
  },
  {
   "cell_type": "code",
   "execution_count": 4,
   "metadata": {},
   "outputs": [
    {
     "name": "stdout",
     "output_type": "stream",
     "text": [
      "Weights 1 from GD Loaded\n",
      "\n",
      "MSE of Model 1 from GD: 1.5299481660261556\n"
     ]
    }
   ],
   "source": [
    "#MSE FOR DATASET 1 WITH GRADIENT DESCENT LEARNING (PRESCRIBED DATASET + 160 WORD COUNT FEATURE)\n",
    "i = 1\n",
    "weights12 = []\n",
    "cross_validation_X = np.load(\"..\\\\1. Data Preprocessing\\\\cross_validation_data_X_\" + str(i) + \".npy\")\n",
    "cross_validation_Y = np.load(\"..\\\\1. Data Preprocessing\\\\cross_validation_data_Y_\" + str(i) + \".npy\")\n",
    "weights12 = np.load(\"..\\\\2. Data Processing\\\\weights_\" + str(i) + \"_from_GD.npy\")\n",
    "print(\"Weights \" + str(i) + \" from GD Loaded\\n\")\n",
    "\n",
    "MSE = calculateMSE(cross_validation_X, cross_validation_Y, weights12)\n",
    "print(\"MSE of Model \" + str(i) + \" from GD: \" + str(MSE))"
   ]
  },
  {
   "cell_type": "code",
   "execution_count": 5,
   "metadata": {},
   "outputs": [
    {
     "name": "stdout",
     "output_type": "stream",
     "text": [
      "Weights 2 from NE Loaded\n",
      "\n",
      "MSE of Model 2 from NE: 0.9692867641840129\n"
     ]
    }
   ],
   "source": [
    "#MSE FOR DATASET 2 WITH NORMAL EQUATION LEARNING (PRESCRIBED DATASET + 60 WORD COUNT FEATURE)\n",
    "i = 2\n",
    "weights21 = []\n",
    "cross_validation_X = np.load(\"..\\\\1. Data Preprocessing\\\\cross_validation_data_X_\" + str(i) + \".npy\")\n",
    "cross_validation_Y = np.load(\"..\\\\1. Data Preprocessing\\\\cross_validation_data_Y_\" + str(i) + \".npy\")\n",
    "weights21 = np.load(\"..\\\\2. Data Processing\\\\weights_\" + str(i) + \"_from_NE.npy\")\n",
    "print(\"Weights \" + str(i) + \" from NE Loaded\\n\")\n",
    "\n",
    "MSE = calculateMSE(cross_validation_X, cross_validation_Y, weights21)\n",
    "print(\"MSE of Model \" + str(i) + \" from NE: \" + str(MSE))"
   ]
  },
  {
   "cell_type": "code",
   "execution_count": 6,
   "metadata": {},
   "outputs": [
    {
     "name": "stdout",
     "output_type": "stream",
     "text": [
      "Weights 2 from GD Loaded\n",
      "\n",
      "MSE of Model 2 from GD: 0.9951781452539258\n"
     ]
    }
   ],
   "source": [
    "#MSE FOR DATASET 2 WITH GRADIENT DESCENT LEARNING (PRESCRIBED DATASET + 60 WORD COUNT FEATURE)\n",
    "i = 2\n",
    "weights22 = []\n",
    "cross_validation_X = np.load(\"..\\\\1. Data Preprocessing\\\\cross_validation_data_X_\" + str(i) + \".npy\")\n",
    "cross_validation_Y = np.load(\"..\\\\1. Data Preprocessing\\\\cross_validation_data_Y_\" + str(i) + \".npy\")\n",
    "weights22 = np.load(\"..\\\\2. Data Processing\\\\weights_\" + str(i) + \"_from_GD.npy\")\n",
    "print(\"Weights \" + str(i) + \" from GD Loaded\\n\")\n",
    "\n",
    "MSE = calculateMSE(cross_validation_X, cross_validation_Y, weights22)\n",
    "print(\"MSE of Model \" + str(i) + \" from GD: \" + str(MSE))"
   ]
  },
  {
   "cell_type": "code",
   "execution_count": 7,
   "metadata": {},
   "outputs": [
    {
     "name": "stdout",
     "output_type": "stream",
     "text": [
      "Weights 3 from NE Loaded\n",
      "\n",
      "MSE of Model 3 from NE: 0.9962576430964589\n"
     ]
    }
   ],
   "source": [
    "#MSE FOR DATASET 3 WITH NORMAL EQUATION LEARNING (PRESCRIBED DATASET + 160 WORD COUNT FEATURE + 2 ADDITIONAL FEATURES)\n",
    "i = 3\n",
    "weights31 = []\n",
    "cross_validation_X = np.load(\"..\\\\1. Data Preprocessing\\\\cross_validation_data_X_\" + str(i) + \".npy\")\n",
    "cross_validation_Y = np.load(\"..\\\\1. Data Preprocessing\\\\cross_validation_data_Y_\" + str(i) + \".npy\")\n",
    "weights31 = np.load(\"..\\\\2. Data Processing\\\\weights_\" + str(i) + \"_from_NE.npy\")\n",
    "print(\"Weights \" + str(i) + \" from NE Loaded\\n\")\n",
    "\n",
    "MSE = calculateMSE(cross_validation_X, cross_validation_Y, weights31)\n",
    "print(\"MSE of Model \" + str(i) + \" from NE: \" + str(MSE))"
   ]
  },
  {
   "cell_type": "code",
   "execution_count": 8,
   "metadata": {},
   "outputs": [
    {
     "name": "stdout",
     "output_type": "stream",
     "text": [
      "Weights 3 from GD Loaded\n",
      "\n",
      "MSE of Model 3 from GD: 6.256249784664206\n"
     ]
    }
   ],
   "source": [
    "#MSE FOR DATASET 3 WITH GRADIENT DESCENT LEARNING (PRESCRIBED DATASET + 160 WORD COUNT FEATURE + 2 ADDITIONAL FEATURES)\n",
    "i = 3\n",
    "weights32 = []\n",
    "cross_validation_X = np.load(\"..\\\\1. Data Preprocessing\\\\cross_validation_data_X_\" + str(i) + \".npy\")\n",
    "cross_validation_Y = np.load(\"..\\\\1. Data Preprocessing\\\\cross_validation_data_Y_\" + str(i) + \".npy\")\n",
    "weights32 = np.load(\"..\\\\2. Data Processing\\\\weights_\" + str(i) + \"_from_GD.npy\")\n",
    "print(\"Weights \" + str(i) + \" from GD Loaded\\n\")\n",
    "\n",
    "MSE = calculateMSE(cross_validation_X, cross_validation_Y, weights32)\n",
    "print(\"MSE of Model \" + str(i) + \" from GD: \" + str(MSE))"
   ]
  },
  {
   "cell_type": "code",
   "execution_count": 9,
   "metadata": {},
   "outputs": [
    {
     "name": "stdout",
     "output_type": "stream",
     "text": [
      "Weights 4 from NE Loaded\n",
      "\n",
      "MSE of Model 4 from NE: 0.9692101577127294\n"
     ]
    }
   ],
   "source": [
    "#MSE FOR DATASET 4 WITH NORMAL EQUATION LEARNING (PRESCRIBED DATASET + 60 WORD COUNT FEATURE + 2 ADDITIONAL FEATURES)\n",
    "i = 4\n",
    "weights41 = []\n",
    "cross_validation_X = np.load(\"..\\\\1. Data Preprocessing\\\\cross_validation_data_X_\" + str(i) + \".npy\")\n",
    "cross_validation_Y = np.load(\"..\\\\1. Data Preprocessing\\\\cross_validation_data_Y_\" + str(i) + \".npy\")\n",
    "weights41 = np.load(\"..\\\\2. Data Processing\\\\weights_\" + str(i) + \"_from_NE.npy\")\n",
    "print(\"Weights \" + str(i) + \" from NE Loaded\\n\")\n",
    "\n",
    "MSE = calculateMSE(cross_validation_X, cross_validation_Y, weights41)\n",
    "print(\"MSE of Model \" + str(i) + \" from NE: \" + str(MSE))"
   ]
  },
  {
   "cell_type": "code",
   "execution_count": 10,
   "metadata": {},
   "outputs": [
    {
     "name": "stdout",
     "output_type": "stream",
     "text": [
      "Weights 4 from GD Loaded\n",
      "\n",
      "MSE of Model 4 from GD: 5.60227576969785\n"
     ]
    }
   ],
   "source": [
    "#MSE FOR DATASET 4 WITH GRADIENT DESCENT LEARNING (PRESCRIBED DATASET + 60 WORD COUNT FEATURE + 2 ADDITIONAL FEATURES)\n",
    "i = 4\n",
    "weights42 = []\n",
    "cross_validation_X = np.load(\"..\\\\1. Data Preprocessing\\\\cross_validation_data_X_\" + str(i) + \".npy\")\n",
    "cross_validation_Y = np.load(\"..\\\\1. Data Preprocessing\\\\cross_validation_data_Y_\" + str(i) + \".npy\")\n",
    "weights42 = np.load(\"..\\\\2. Data Processing\\\\weights_\" + str(i) + \"_from_GD.npy\")\n",
    "print(\"Weights \" + str(i) + \" from GD Loaded\\n\")\n",
    "\n",
    "MSE = calculateMSE(cross_validation_X, cross_validation_Y, weights42)\n",
    "print(\"MSE of Model \" + str(i) + \" from GD: \" + str(MSE))"
   ]
  },
  {
   "cell_type": "code",
   "execution_count": 24,
   "metadata": {},
   "outputs": [
    {
     "name": "stdout",
     "output_type": "stream",
     "text": [
      "Weights 5 from NE Loaded\n",
      "\n",
      "MSE of Model 5 from NE: 1.0203266848431438\n"
     ]
    }
   ],
   "source": [
    "#MSE FOR DATASET 5 WITH NORMAL EQUATION LEARNING (PRESCRIBED DATASET EXCLUDING TEXT FEATURES)\n",
    "i = 5\n",
    "weights51 = []\n",
    "cross_validation_X = np.load(\"..\\\\1. Data Preprocessing\\\\cross_validation_data_X_\" + str(i) + \".npy\")\n",
    "cross_validation_Y = np.load(\"..\\\\1. Data Preprocessing\\\\cross_validation_data_Y_\" + str(i) + \".npy\")\n",
    "weights51 = np.load(\"..\\\\2. Data Processing\\\\weights_\" + str(i) + \"_from_NE.npy\")\n",
    "print(\"Weights \" + str(i) + \" from NE Loaded\\n\")\n",
    "\n",
    "MSE = calculateMSE(cross_validation_X, cross_validation_Y, weights51)\n",
    "print(\"MSE of Model \" + str(i) + \" from NE: \" + str(MSE))"
   ]
  },
  {
   "cell_type": "code",
   "execution_count": 25,
   "metadata": {},
   "outputs": [
    {
     "name": "stdout",
     "output_type": "stream",
     "text": [
      "Weights 5 from GD Loaded\n",
      "\n",
      "MSE of Model 5 from GD: 2.1549039256978983\n"
     ]
    }
   ],
   "source": [
    "#MSE FOR DATASET 5 WITH GRADIENT DESCENT LEARNING (PRESCRIBED DATASET EXCLUDING TEXT FEATURES)\n",
    "i = 5\n",
    "weights52 = []\n",
    "cross_validation_X = np.load(\"..\\\\1. Data Preprocessing\\\\cross_validation_data_X_\" + str(i) + \".npy\")\n",
    "cross_validation_Y = np.load(\"..\\\\1. Data Preprocessing\\\\cross_validation_data_Y_\" + str(i) + \".npy\")\n",
    "weights52 = np.load(\"..\\\\2. Data Processing\\\\weights_\" + str(i) + \"_from_GD.npy\")\n",
    "print(\"Weights \" + str(i) + \" from GD Loaded\\n\")\n",
    "\n",
    "MSE = calculateMSE(cross_validation_X, cross_validation_Y, weights52)\n",
    "print(\"MSE of Model \" + str(i) + \" from GD: \" + str(MSE))"
   ]
  },
  {
   "cell_type": "code",
   "execution_count": null,
   "metadata": {},
   "outputs": [],
   "source": []
  },
  {
   "cell_type": "markdown",
   "metadata": {},
   "source": [
    "EXPERIMENTAL CELLS"
   ]
  },
  {
   "cell_type": "code",
   "execution_count": 28,
   "metadata": {},
   "outputs": [
    {
     "name": "stdout",
     "output_type": "stream",
     "text": [
      "Weights 99 from NE Loaded\n",
      "\n",
      "MSE of Model 99 from NE: 1.0159737956686943\n"
     ]
    }
   ],
   "source": [
    "#MSE FOR DATASET 99 WITH NORMAL EQUATION LEARNING\n",
    "i = 99\n",
    "weights991 = []\n",
    "cross_validation_X = np.load(\"..\\\\1. Data Preprocessing\\\\cross_validation_data_X_\" + str(i) + \".npy\")\n",
    "cross_validation_Y = np.load(\"..\\\\1. Data Preprocessing\\\\cross_validation_data_Y_\" + str(i) + \".npy\")\n",
    "weights991 = np.load(\"..\\\\2. Data Processing\\\\weights_\" + str(i) + \"_from_NE.npy\")\n",
    "print(\"Weights \" + str(i) + \" from NE Loaded\\n\")\n",
    "\n",
    "MSE = calculateMSE(cross_validation_X, cross_validation_Y, weights991)\n",
    "print(\"MSE of Model \" + str(i) + \" from NE: \" + str(MSE))"
   ]
  },
  {
   "cell_type": "code",
   "execution_count": 29,
   "metadata": {},
   "outputs": [
    {
     "name": "stdout",
     "output_type": "stream",
     "text": [
      "Weights 99 from GD Loaded\n",
      "\n",
      "MSE of Model 99 from GD: 1.9834088138033459\n"
     ]
    }
   ],
   "source": [
    "#MSE FOR DATASET 99 WITH GRADIENT DESCENT LEARNING\n",
    "i = 99\n",
    "weights992 = []\n",
    "cross_validation_X = np.load(\"..\\\\1. Data Preprocessing\\\\cross_validation_data_X_\" + str(i) + \".npy\")\n",
    "cross_validation_Y = np.load(\"..\\\\1. Data Preprocessing\\\\cross_validation_data_Y_\" + str(i) + \".npy\")\n",
    "weights992 = np.load(\"..\\\\2. Data Processing\\\\weights_\" + str(i) + \"_from_GD.npy\")\n",
    "print(\"Weights \" + str(i) + \" from GD Loaded\\n\")\n",
    "\n",
    "MSE = calculateMSE(cross_validation_X, cross_validation_Y, weights992)\n",
    "print(\"MSE of Model \" + str(i) + \" from GD: \" + str(MSE))"
   ]
  },
  {
   "cell_type": "code",
   "execution_count": null,
   "metadata": {},
   "outputs": [],
   "source": []
  }
 ],
 "metadata": {
  "kernelspec": {
   "display_name": "Python 3",
   "language": "python",
   "name": "python3"
  },
  "language_info": {
   "codemirror_mode": {
    "name": "ipython",
    "version": 3
   },
   "file_extension": ".py",
   "mimetype": "text/x-python",
   "name": "python",
   "nbconvert_exporter": "python",
   "pygments_lexer": "ipython3",
   "version": "3.7.0"
  }
 },
 "nbformat": 4,
 "nbformat_minor": 2
}
