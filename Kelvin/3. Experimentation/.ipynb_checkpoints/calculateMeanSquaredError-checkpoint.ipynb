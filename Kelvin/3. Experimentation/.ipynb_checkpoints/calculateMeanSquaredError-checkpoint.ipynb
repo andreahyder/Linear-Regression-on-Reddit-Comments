{
 "cells": [
  {
   "cell_type": "code",
   "execution_count": 56,
   "metadata": {},
   "outputs": [],
   "source": [
    "import numpy as np\n",
    "from functools import reduce"
   ]
  },
  {
   "cell_type": "code",
   "execution_count": 57,
   "metadata": {},
   "outputs": [],
   "source": [
    "def calculateMSE(X, y, w):\n",
    "    print(X.shape)\n",
    "    print(y.shape)\n",
    "    print(w.shape)\n",
    "    yApprox = np.matmul(X, w.transpose())\n",
    "    difference = np.subtract(y, yApprox)\n",
    "    squaredDifference = map(lambda x: x ** 2, difference)\n",
    "    return reduce(lambda x, y: x + y, squaredDifference)"
   ]
  },
  {
   "cell_type": "code",
   "execution_count": 58,
   "metadata": {},
   "outputs": [
    {
     "name": "stdout",
     "output_type": "stream",
     "text": [
      "Dataset 1 Loaded\n",
      "\n",
      "(1000, 164)\n",
      "(1000,)\n",
      "(164,)\n",
      "MSE of Dataset 1: 0.9963854642576891\n"
     ]
    }
   ],
   "source": [
    "#MSE FOR DATASET 1 (PRESCRIBED DATASET + 160 WORD COUNT FEATURE)\n",
    "i = 1\n",
    "weights = []\n",
    "cross_validation_X = np.load(\"..\\\\1. Data Preprocessing\\\\cross_validation_data_X_\" + str(i) + \".npy\")\n",
    "cross_validation_Y = np.load(\"..\\\\1. Data Preprocessing\\\\cross_validation_data_Y_\" + str(i) + \".npy\")\n",
    "weights_from_NE = np.load(\"..\\\\2. Data Processing\\\\weights_\" + str(i) + \"_from_NE.npy\")\n",
    "print(\"Dataset \" + str(i) + \" Loaded\\n\")\n",
    "\n",
    "MSE = calculateMSE(cross_validation_X, cross_validation_Y, weights_from_NE)/len(cross_validation_Y)\n",
    "print(\"MSE of Dataset \" + str(i) + \": \" + str(MSE))"
   ]
  },
  {
   "cell_type": "code",
   "execution_count": 59,
   "metadata": {},
   "outputs": [
    {
     "name": "stdout",
     "output_type": "stream",
     "text": [
      "Dataset 2 Loaded\n",
      "\n",
      "(1000, 64)\n",
      "(1000,)\n",
      "(64,)\n",
      "MSE of Dataset 2: 0.9692867641840129\n"
     ]
    }
   ],
   "source": [
    "#MSE FOR DATASET 2 (PRESCRIBED DATASET + 60 WORD COUNT FEATURE)\n",
    "i = 2\n",
    "weights = []\n",
    "cross_validation_X = np.load(\"..\\\\1. Data Preprocessing\\\\cross_validation_data_X_\" + str(i) + \".npy\")\n",
    "cross_validation_Y = np.load(\"..\\\\1. Data Preprocessing\\\\cross_validation_data_Y_\" + str(i) + \".npy\")\n",
    "weights_from_NE = np.load(\"..\\\\2. Data Processing\\\\weights_\" + str(i) + \"_from_NE.npy\")\n",
    "print(\"Dataset \" + str(i) + \" Loaded\\n\")\n",
    "\n",
    "MSE = calculateMSE(cross_validation_X, cross_validation_Y, weights_from_NE)/len(cross_validation_Y)\n",
    "print(\"MSE of Dataset \" + str(i) + \": \" + str(MSE))\n"
   ]
  },
  {
   "cell_type": "code",
   "execution_count": null,
   "metadata": {},
   "outputs": [],
   "source": []
  }
 ],
 "metadata": {
  "kernelspec": {
   "display_name": "Python 3",
   "language": "python",
   "name": "python3"
  },
  "language_info": {
   "codemirror_mode": {
    "name": "ipython",
    "version": 3
   },
   "file_extension": ".py",
   "mimetype": "text/x-python",
   "name": "python",
   "nbconvert_exporter": "python",
   "pygments_lexer": "ipython3",
   "version": "3.7.0"
  }
 },
 "nbformat": 4,
 "nbformat_minor": 2
}
