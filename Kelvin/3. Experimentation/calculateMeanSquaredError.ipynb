{
 "cells": [
  {
   "cell_type": "code",
   "execution_count": 12,
   "metadata": {},
   "outputs": [],
   "source": [
    "import numpy as np\n",
    "from functools import reduce"
   ]
  },
  {
   "cell_type": "code",
   "execution_count": 13,
   "metadata": {},
   "outputs": [],
   "source": [
    "def calculateMSE(X, y, w):\n",
    "    yApprox = np.matmul(X, w.transpose())\n",
    "    difference = np.subtract(y, yApprox)\n",
    "    squaredDifference = map(lambda x: x ** 2, difference)\n",
    "    return reduce(lambda x, y: x + y, squaredDifference)"
   ]
  },
  {
   "cell_type": "code",
   "execution_count": 14,
   "metadata": {},
   "outputs": [
    {
     "name": "stdout",
     "output_type": "stream",
     "text": [
      "Dataset 1 Loaded\n",
      "\n",
      "MSE of Dataset 1: 996.3854642576891\n"
     ]
    }
   ],
   "source": [
    "#MSE FOR DATASET 1 WITH NORMAL EQUATION LEARNING (PRESCRIBED DATASET + 160 WORD COUNT FEATURE)\n",
    "i = 1\n",
    "weights = []\n",
    "cross_validation_X = np.load(\"..\\\\1. Data Preprocessing\\\\cross_validation_data_X_\" + str(i) + \".npy\")\n",
    "cross_validation_Y = np.load(\"..\\\\1. Data Preprocessing\\\\cross_validation_data_Y_\" + str(i) + \".npy\")\n",
    "weights = np.load(\"..\\\\2. Data Processing\\\\weights_\" + str(i) + \"_from_NE.npy\")\n",
    "print(\"Dataset \" + str(i) + \" Loaded\\n\")\n",
    "\n",
    "MSE = calculateMSE(cross_validation_X, cross_validation_Y, weights)\n",
    "print(\"MSE of Dataset \" + str(i) + \": \" + str(MSE))"
   ]
  },
  {
   "cell_type": "code",
   "execution_count": 18,
   "metadata": {},
   "outputs": [
    {
     "name": "stdout",
     "output_type": "stream",
     "text": [
      "Dataset 2 Loaded\n",
      "\n",
      "MSE of Dataset 2: 969.2867641840129\n"
     ]
    }
   ],
   "source": [
    "#MSE FOR DATASET 2 WITH NORMAL EQUATION LEARNING (PRESCRIBED DATASET + 60 WORD COUNT FEATURE)\n",
    "i = 2\n",
    "weights = []\n",
    "cross_validation_X = np.load(\"..\\\\1. Data Preprocessing\\\\cross_validation_data_X_\" + str(i) + \".npy\")\n",
    "cross_validation_Y = np.load(\"..\\\\1. Data Preprocessing\\\\cross_validation_data_Y_\" + str(i) + \".npy\")\n",
    "weights = np.load(\"..\\\\2. Data Processing\\\\weights_\" + str(i) + \"_from_NE.npy\")\n",
    "print(\"Dataset \" + str(i) + \" Loaded\\n\")\n",
    "\n",
    "MSE = calculateMSE(cross_validation_X, cross_validation_Y, weights)\n",
    "print(\"MSE of Dataset \" + str(i) + \": \" + str(MSE))\n"
   ]
  },
  {
   "cell_type": "code",
   "execution_count": 26,
   "metadata": {},
   "outputs": [
    {
     "name": "stdout",
     "output_type": "stream",
     "text": [
      "Dataset 1 Loaded\n",
      "\n",
      "MSE of Dataset 1: 1245.9611647196953\n"
     ]
    }
   ],
   "source": [
    "#MSE FOR DATASET 1 WITH GRADIENT DESCENT EQUATION LEARNING (PRESCRIBED DATASET + 160 WORD COUNT FEATURE)\n",
    "#alpha_init = 10^-4\n",
    "#error = 10^-9\n",
    "#Time Elapsed: 2hr approx\n",
    "i = 1\n",
    "weights = []\n",
    "cross_validation_X = np.load(\"..\\\\1. Data Preprocessing\\\\cross_validation_data_X_\" + str(i) + \".npy\")\n",
    "cross_validation_Y = np.load(\"..\\\\1. Data Preprocessing\\\\cross_validation_data_Y_\" + str(i) + \".npy\")\n",
    "weights = np.load(\"..\\\\2. Data Processing\\\\weights_\" + str(i) + \"_from_GD.npy\")\n",
    "print(\"Dataset \" + str(i) + \" Loaded\\n\")\n",
    "\n",
    "MSE = calculateMSE(cross_validation_X, cross_validation_Y, weights)\n",
    "print(\"MSE of Dataset \" + str(i) + \": \" + str(MSE))"
   ]
  },
  {
   "cell_type": "code",
   "execution_count": 25,
   "metadata": {},
   "outputs": [
    {
     "name": "stdout",
     "output_type": "stream",
     "text": [
      "Dataset 2 Loaded\n",
      "\n",
      "MSE of Dataset 2: 120003.88438918526\n"
     ]
    }
   ],
   "source": [
    "#MSE FOR DATASET 2 WITH GRADIENT DESCENT EQUATION LEARNING (PRESCRIBED DATASET + 60 WORD COUNT FEATURE)\n",
    "i = 2\n",
    "weights = []\n",
    "cross_validation_X = np.load(\"..\\\\1. Data Preprocessing\\\\cross_validation_data_X_\" + str(i) + \".npy\")\n",
    "cross_validation_Y = np.load(\"..\\\\1. Data Preprocessing\\\\cross_validation_data_Y_\" + str(i) + \".npy\")\n",
    "weights = np.load(\"..\\\\2. Data Processing\\\\weights_\" + str(i) + \"_from_GD.npy\")\n",
    "print(\"Dataset \" + str(i) + \" Loaded\\n\")\n",
    "\n",
    "MSE = calculateMSE(cross_validation_X, cross_validation_Y, weights)\n",
    "print(\"MSE of Dataset \" + str(i) + \": \" + str(MSE))"
   ]
  },
  {
   "cell_type": "code",
   "execution_count": null,
   "metadata": {},
   "outputs": [],
   "source": []
  }
 ],
 "metadata": {
  "kernelspec": {
   "display_name": "Python 3",
   "language": "python",
   "name": "python3"
  },
  "language_info": {
   "codemirror_mode": {
    "name": "ipython",
    "version": 3
   },
   "file_extension": ".py",
   "mimetype": "text/x-python",
   "name": "python",
   "nbconvert_exporter": "python",
   "pygments_lexer": "ipython3",
   "version": "3.7.0"
  }
 },
 "nbformat": 4,
 "nbformat_minor": 2
}
