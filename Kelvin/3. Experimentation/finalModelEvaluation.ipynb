{
 "cells": [
  {
   "cell_type": "code",
   "execution_count": 18,
   "metadata": {},
   "outputs": [],
   "source": [
    "import numpy as np\n",
    "from functools import reduce"
   ]
  },
  {
   "cell_type": "code",
   "execution_count": 2,
   "metadata": {},
   "outputs": [],
   "source": [
    "def calculateMSE(X, y, w):\n",
    "    yApprox = np.matmul(X, w.transpose())\n",
    "    difference = np.subtract(y, yApprox)\n",
    "    squaredDifference = map(lambda x: x ** 2, difference)\n",
    "    MSE = reduce(lambda x, y: x + y, squaredDifference)/len(X)\n",
    "    return MSE"
   ]
  },
  {
   "cell_type": "code",
   "execution_count": 3,
   "metadata": {},
   "outputs": [
    {
     "name": "stdout",
     "output_type": "stream",
     "text": [
      "Weights 1 from NE Loaded\n",
      "\n",
      "MSE of Model 1 from NE: 0.9963854642576891\n"
     ]
    }
   ],
   "source": [
    "#MSE FOR DATASET 1 WITH NORMAL EQUATION LEARNING (PRESCRIBED DATASET + 160 WORD COUNT FEATURE)\n",
    "i = 1\n",
    "weights11 = []\n",
    "cross_validation_X = np.load(\"..\\\\1. Data Preprocessing\\\\cross_validation_data_X_\" + str(i) + \".npy\")\n",
    "cross_validation_Y = np.load(\"..\\\\1. Data Preprocessing\\\\cross_validation_data_Y_\" + str(i) + \".npy\")\n",
    "weights11 = np.load(\"..\\\\2. Data Processing\\\\weights_\" + str(i) + \"_from_NE.npy\")\n",
    "print(\"Weights \" + str(i) + \" from NE Loaded\\n\")\n",
    "\n",
    "MSE = calculateMSE(cross_validation_X, cross_validation_Y, weights11)\n",
    "print(\"MSE of Model \" + str(i) + \" from NE: \" + str(MSE))"
   ]
  },
  {
   "cell_type": "code",
   "execution_count": null,
   "metadata": {},
   "outputs": [],
   "source": []
  }
 ],
 "metadata": {
  "kernelspec": {
   "display_name": "Python 3",
   "language": "python",
   "name": "python3"
  },
  "language_info": {
   "codemirror_mode": {
    "name": "ipython",
    "version": 3
   },
   "file_extension": ".py",
   "mimetype": "text/x-python",
   "name": "python",
   "nbconvert_exporter": "python",
   "pygments_lexer": "ipython3",
   "version": "3.7.0"
  }
 },
 "nbformat": 4,
 "nbformat_minor": 2
}
