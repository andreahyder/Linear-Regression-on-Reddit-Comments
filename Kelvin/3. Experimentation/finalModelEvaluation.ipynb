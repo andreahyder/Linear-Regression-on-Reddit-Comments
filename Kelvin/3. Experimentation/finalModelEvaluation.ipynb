{
 "cells": [
  {
   "cell_type": "code",
   "execution_count": 1,
   "metadata": {},
   "outputs": [],
   "source": [
    "import numpy as np\n",
    "from functools import reduce"
   ]
  },
  {
   "cell_type": "code",
   "execution_count": 2,
   "metadata": {},
   "outputs": [],
   "source": [
    "def calculateMSE(X, y, w):\n",
    "    yApprox = np.matmul(X, w.transpose())\n",
    "    difference = np.subtract(y, yApprox)\n",
    "    squaredDifference = map(lambda x: x ** 2, difference)\n",
    "    MSE = reduce(lambda x, y: x + y, squaredDifference)/len(X)\n",
    "    return MSE"
   ]
  },
  {
   "cell_type": "code",
   "execution_count": 3,
   "metadata": {},
   "outputs": [
    {
     "name": "stdout",
     "output_type": "stream",
     "text": [
      "Final Model Weights Loaded\n",
      "\n",
      "MSE of Final Model: 1.2986293759612295\n"
     ]
    }
   ],
   "source": [
    "#MSE FOR FINAL MODEL EVALUATION (PRESCRIBED DATASET + 60 WORD COUNT FEATURE, i = 2)\n",
    "i = 2\n",
    "weights = []\n",
    "testing_X = np.load(\"..\\\\1. Data Preprocessing\\\\testing_data_X_\" + str(i) + \".npy\")\n",
    "testing_Y = np.load(\"..\\\\1. Data Preprocessing\\\\testing_data_Y_\" + str(i) + \".npy\")\n",
    "weights = np.load(\"final_model_weights.npy\")\n",
    "print(\"Final Model Weights Loaded\\n\")\n",
    "\n",
    "MSE = calculateMSE(testing_X, testing_Y, weights)\n",
    "print(\"MSE of Final Model: \" + str(MSE))"
   ]
  }
 ],
 "metadata": {
  "kernelspec": {
   "display_name": "Python 3",
   "language": "python",
   "name": "python3"
  },
  "language_info": {
   "codemirror_mode": {
    "name": "ipython",
    "version": 3
   },
   "file_extension": ".py",
   "mimetype": "text/x-python",
   "name": "python",
   "nbconvert_exporter": "python",
   "pygments_lexer": "ipython3",
   "version": "3.7.0"
  }
 },
 "nbformat": 4,
 "nbformat_minor": 2
}
