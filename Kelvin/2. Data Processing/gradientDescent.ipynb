{
 "cells": [
  {
   "cell_type": "code",
   "execution_count": 21,
   "metadata": {},
   "outputs": [],
   "source": [
    "import numpy as np"
   ]
  },
  {
   "cell_type": "code",
   "execution_count": 22,
   "metadata": {},
   "outputs": [
    {
     "name": "stdout",
     "output_type": "stream",
     "text": [
      "Dataset 1 Loaded\n",
      "\n"
     ]
    }
   ],
   "source": [
    "#LOAD DATA\n",
    "dataset_indicator = 1\n",
    "i = dataset_indicator\n",
    "weights = []\n",
    "training_X = np.load(\"..\\\\1. Data Preprocessing\\\\training_data_X_\" + str(i) + \".npy\")\n",
    "training_Y = np.load(\"..\\\\1. Data Preprocessing\\\\training_data_Y_\" + str(i) + \".npy\")\n",
    "print(\"Dataset \" + str(i) + \" Loaded\\n\")"
   ]
  },
  {
   "cell_type": "code",
   "execution_count": 23,
   "metadata": {},
   "outputs": [],
   "source": [
    "#GRADIENT DESCENT ALGORITHM\n",
    "def gradientDescent(X, Y, a, b, e):\n",
    "    XT = X.transpose()\n",
    "    XTX = np.matmul(XT, X)\n",
    "    XTY = np.matmul(XT, Y)\n",
    "    wOld = np.random.rand(len(X[0]))\n",
    "    wNew = np.random.rand(len(X[0]))\n",
    "    diff = np.subtract(wNew, wOld)\n",
    "    error = np.linalg.norm(diff,2)\n",
    "    while (error > e):\n",
    "        wOld = wNew\n",
    "        alpha = a/(1 + b)\n",
    "        derivative = np.subtract(np.matmul(XTX,wOld),XTY)\n",
    "        wNew = wOld - (2*a*derivative)\n",
    "        diff = np.subtract(wNew, wOld)\n",
    "        error = np.linalg.norm(diff,2)\n",
    "        print(error)\n",
    "        b+=1\n",
    "    return wNew"
   ]
  },
  {
   "cell_type": "code",
   "execution_count": 24,
   "metadata": {},
   "outputs": [
    {
     "name": "stdout",
     "output_type": "stream",
     "text": [
      "1015293.5281118684\n",
      "312567652875.32104\n",
      "9.633468572572088e+16\n",
      "2.9691116431172367e+22\n",
      "9.151039908525564e+27\n",
      "2.820423807494948e+33\n",
      "8.692772115293982e+38\n",
      "2.6791820026370853e+44\n",
      "8.257453558026251e+49\n",
      "2.5450133360050286e+55\n",
      "7.843934979383209e+60\n",
      "2.4175635974219463e+66\n",
      "7.451124675231973e+71\n",
      "2.29649631492862e+77\n",
      "7.077985612039893e+82\n",
      "2.181491866482741e+88\n",
      "6.723532689068049e+93\n",
      "2.0722466361450575e+99\n",
      "6.38683013766938e+104\n",
      "1.968472212522219e+110\n",
      "6.066989050825304e+115\n",
      "1.8698946273501768e+121\n",
      "5.763165036398772e+126\n",
      "1.776253632207973e+132\n",
      "5.474555987908217e+137\n",
      "1.6873020114524152e+143\n",
      "5.200399966937186e+148\n",
      "inf\n",
      "inf\n",
      "inf\n",
      "inf\n",
      "inf\n",
      "inf\n",
      "inf\n",
      "inf\n",
      "inf\n",
      "inf\n",
      "inf\n",
      "inf\n",
      "inf\n",
      "inf\n",
      "inf\n",
      "inf\n",
      "inf\n",
      "inf\n",
      "inf\n",
      "inf\n",
      "inf\n",
      "inf\n",
      "inf\n",
      "inf\n",
      "inf\n",
      "inf\n",
      "inf\n",
      "inf\n",
      "inf\n",
      "inf\n",
      "nan\n",
      "Weights 1 Learned\n",
      "\n"
     ]
    },
    {
     "name": "stderr",
     "output_type": "stream",
     "text": [
      "C:\\Users\\admin\\Anaconda3\\lib\\site-packages\\ipykernel_launcher.py:14: RuntimeWarning: invalid value encountered in subtract\n",
      "  \n"
     ]
    }
   ],
   "source": [
    "#WEIGHTS LEARNING FUNCTION CALLS\n",
    "weights = gradientDescent(training_X, training_Y, 1, 0, 0.000000001)\n",
    "print(\"Weights \" + str(i) + \" Learned\\n\")"
   ]
  },
  {
   "cell_type": "code",
   "execution_count": 5,
   "metadata": {},
   "outputs": [
    {
     "name": "stdout",
     "output_type": "stream",
     "text": [
      "Weights 1 Saved\n",
      "\n"
     ]
    }
   ],
   "source": [
    "#SAVING WEIGHTS\n",
    "np.save(\"weights_\" + str(i) + \"_from_GD.npy\", weights)\n",
    "print(\"Weights \" + str(i) + \" Saved\\n\")"
   ]
  },
  {
   "cell_type": "code",
   "execution_count": 6,
   "metadata": {},
   "outputs": [
    {
     "name": "stdout",
     "output_type": "stream",
     "text": [
      "164\n"
     ]
    }
   ],
   "source": [
    "print(len(weights))"
   ]
  },
  {
   "cell_type": "code",
   "execution_count": 25,
   "metadata": {},
   "outputs": [
    {
     "name": "stdout",
     "output_type": "stream",
     "text": [
      "[[1, 2], [3, 4]]\n",
      "[[1 2]\n",
      " [3 4]]\n"
     ]
    }
   ],
   "source": [
    "a = [[1,2],[3,4]]\n",
    "b = np.array(a)\n",
    "print(a)\n",
    "print(b)"
   ]
  }
 ],
 "metadata": {
  "kernelspec": {
   "display_name": "Python 3",
   "language": "python",
   "name": "python3"
  },
  "language_info": {
   "codemirror_mode": {
    "name": "ipython",
    "version": 3
   },
   "file_extension": ".py",
   "mimetype": "text/x-python",
   "name": "python",
   "nbconvert_exporter": "python",
   "pygments_lexer": "ipython3",
   "version": "3.7.0"
  }
 },
 "nbformat": 4,
 "nbformat_minor": 2
}
