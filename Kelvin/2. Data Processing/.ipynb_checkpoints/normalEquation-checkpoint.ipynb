{
 "cells": [
  {
   "cell_type": "code",
   "execution_count": 30,
   "metadata": {},
   "outputs": [],
   "source": [
    "import numpy as np"
   ]
  },
  {
   "cell_type": "code",
   "execution_count": 31,
   "metadata": {},
   "outputs": [
    {
     "name": "stdout",
     "output_type": "stream",
     "text": [
      "Dataset 2 Loaded\n",
      "\n"
     ]
    }
   ],
   "source": [
    "#LOAD DATA\n",
    "dataset_indicator = 2\n",
    "i = dataset_indicator\n",
    "weights = []\n",
    "training_X = np.load(\"..\\\\1. Data Preprocessing\\\\training_data_X_\" + str(i) + \".npy\")\n",
    "training_Y = np.load(\"..\\\\1. Data Preprocessing\\\\training_data_Y_\" + str(i) + \".npy\")\n",
    "print(\"Dataset \" + str(i) + \" Loaded\\n\")"
   ]
  },
  {
   "cell_type": "code",
   "execution_count": 32,
   "metadata": {},
   "outputs": [],
   "source": [
    "#NORMAL EQUATION SOLVER\n",
    "def normalEquation(X, Y):\n",
    "    XT = X.transpose()\n",
    "    XTX = np.matmul(XT, X)\n",
    "    a = np.linalg.solve(XTX, np.eye(len(XTX)))\n",
    "    w = np.matmul(np.matmul(a, XT), Y)\n",
    "    return w"
   ]
  },
  {
   "cell_type": "code",
   "execution_count": 33,
   "metadata": {},
   "outputs": [
    {
     "name": "stdout",
     "output_type": "stream",
     "text": [
      "Weights 2 Learned\n",
      "\n"
     ]
    }
   ],
   "source": [
    "#WEIGHTS LEARNING FUNCTION CALLS\n",
    "weights = normalEquation(training_X, training_Y)\n",
    "print(\"Weights \" + str(i) + \" Learned\\n\")"
   ]
  },
  {
   "cell_type": "code",
   "execution_count": 34,
   "metadata": {},
   "outputs": [
    {
     "name": "stdout",
     "output_type": "stream",
     "text": [
      "Weights 2 Saved\n",
      "\n"
     ]
    }
   ],
   "source": [
    "#SAVING WEIGHTS\n",
    "np.save(\"weights_\" + str(i) + \"_from_NE.npy\", weights)\n",
    "print(\"Weights \" + str(i) + \" Saved\\n\")"
   ]
  },
  {
   "cell_type": "code",
   "execution_count": null,
   "metadata": {},
   "outputs": [],
   "source": []
  }
 ],
 "metadata": {
  "kernelspec": {
   "display_name": "Python 3",
   "language": "python",
   "name": "python3"
  },
  "language_info": {
   "codemirror_mode": {
    "name": "ipython",
    "version": 3
   },
   "file_extension": ".py",
   "mimetype": "text/x-python",
   "name": "python",
   "nbconvert_exporter": "python",
   "pygments_lexer": "ipython3",
   "version": "3.7.0"
  }
 },
 "nbformat": 4,
 "nbformat_minor": 2
}
