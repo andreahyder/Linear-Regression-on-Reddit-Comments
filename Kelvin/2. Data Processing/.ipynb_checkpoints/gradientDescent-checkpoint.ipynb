{
 "cells": [
  {
   "cell_type": "code",
   "execution_count": 1,
   "metadata": {},
   "outputs": [],
   "source": [
    "import numpy as np"
   ]
  },
  {
   "cell_type": "code",
   "execution_count": 26,
   "metadata": {},
   "outputs": [
    {
     "name": "stdout",
     "output_type": "stream",
     "text": [
      "Dataset 1 Loaded\n",
      "\n"
     ]
    }
   ],
   "source": [
    "#LOAD DATA\n",
    "dataset_indicator = 1\n",
    "i = dataset_indicator\n",
    "weights = []\n",
    "training_X = np.load(\"..\\\\1. Data Preprocessing\\\\training_data_X_\" + str(i) + \".npy\")\n",
    "training_Y = np.load(\"..\\\\1. Data Preprocessing\\\\training_data_Y_\" + str(i) + \".npy\")\n",
    "print(\"Dataset \" + str(i) + \" Loaded\\n\")"
   ]
  },
  {
   "cell_type": "code",
   "execution_count": 27,
   "metadata": {},
   "outputs": [],
   "source": [
    "#GRADIENT DESCENT ALGORITHM\n",
    "def gradientDescent(X, Y, a, b, e):\n",
    "    XT = X.transpose()\n",
    "    XTX = np.matmul(XT, X)\n",
    "    XTY = np.matmul(XT, Y)\n",
    "    wOld = np.random.rand(len(X[0]))\n",
    "    wNew = np.random.rand(len(X[0]))\n",
    "    diff = np.subtract(wNew, wOld)\n",
    "    error = np.linalg.norm(diff,2)\n",
    "    while (error < e):\n",
    "        alpha = a/(1 + b)\n",
    "        derivative = np.subtract(XTX,XTY)\n",
    "        w = wNew - (2*a*derivative)\n",
    "        wOld = wNew\n",
    "        wNew = w\n",
    "        diff = np.subtract(wNew, wOld)\n",
    "        error = np.linalg.norm(diff,2)\n",
    "        b+=1\n",
    "    return wNew"
   ]
  },
  {
   "cell_type": "code",
   "execution_count": 28,
   "metadata": {},
   "outputs": [
    {
     "name": "stdout",
     "output_type": "stream",
     "text": [
      "Weights 1 Learned\n",
      "\n"
     ]
    }
   ],
   "source": [
    "#WEIGHTS LEARNING FUNCTION CALLS\n",
    "weights = gradientDescent(training_X, training_Y, 1, 0, 0.000000001)\n",
    "print(\"Weights \" + str(i) + \" Learned\\n\")"
   ]
  },
  {
   "cell_type": "code",
   "execution_count": 29,
   "metadata": {},
   "outputs": [
    {
     "name": "stdout",
     "output_type": "stream",
     "text": [
      "Weights 1 Saved\n",
      "\n"
     ]
    }
   ],
   "source": [
    "#SAVING WEIGHTS\n",
    "np.save(\"weights_\" + str(i) + \"_from_GD.npy\", weights)\n",
    "print(\"Weights \" + str(i) + \" Saved\\n\")"
   ]
  },
  {
   "cell_type": "code",
   "execution_count": 30,
   "metadata": {},
   "outputs": [
    {
     "name": "stdout",
     "output_type": "stream",
     "text": [
      "164\n"
     ]
    }
   ],
   "source": [
    "print(len(weights))"
   ]
  }
 ],
 "metadata": {
  "kernelspec": {
   "display_name": "Python 3",
   "language": "python",
   "name": "python3"
  },
  "language_info": {
   "codemirror_mode": {
    "name": "ipython",
    "version": 3
   },
   "file_extension": ".py",
   "mimetype": "text/x-python",
   "name": "python",
   "nbconvert_exporter": "python",
   "pygments_lexer": "ipython3",
   "version": "3.7.0"
  }
 },
 "nbformat": 4,
 "nbformat_minor": 2
}
