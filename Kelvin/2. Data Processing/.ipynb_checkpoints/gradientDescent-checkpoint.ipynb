{
 "cells": [
  {
   "cell_type": "code",
   "execution_count": 1,
   "metadata": {},
   "outputs": [],
   "source": [
    "import numpy as np\n",
    "import random"
   ]
  },
  {
   "cell_type": "code",
   "execution_count": 17,
   "metadata": {},
   "outputs": [
    {
     "name": "stdout",
     "output_type": "stream",
     "text": [
      "Dataset 6 Loaded\n",
      "\n"
     ]
    }
   ],
   "source": [
    "#LOAD DATA\n",
    "dataset_indicator = 6\n",
    "i = dataset_indicator\n",
    "weights = []\n",
    "training_X = np.load(\"..\\\\1. Data Preprocessing\\\\training_data_X_\" + str(i) + \".npy\")\n",
    "training_Y = np.load(\"..\\\\1. Data Preprocessing\\\\training_data_Y_\" + str(i) + \".npy\")\n",
    "print(\"Dataset \" + str(i) + \" Loaded\\n\")"
   ]
  },
  {
   "cell_type": "code",
   "execution_count": 18,
   "metadata": {},
   "outputs": [],
   "source": [
    "#GRADIENT DESCENT ALGORITHM\n",
    "def gradientDescent(X, Y, n_init, beta, e):\n",
    "    XT = X.transpose()\n",
    "    XTX = np.matmul(XT, X)\n",
    "    XTY = np.matmul(XT, Y)\n",
    "    w = []\n",
    "    for i in range(len(X[0])): w.append(random.uniform(-1,1))\n",
    "    error = 1\n",
    "    i = 0\n",
    "    while (error > e):\n",
    "        wOld = w\n",
    "        alpha = n_init/(1 + beta)\n",
    "        XTXw = np.matmul(XTX,wOld)\n",
    "        derivative = 2 * np.subtract(XTXw,XTY)\n",
    "        w = np.subtract(wOld,alpha*derivative)\n",
    "        error = np.linalg.norm(np.subtract(w, wOld),2)\n",
    "        beta+=1\n",
    "        i+=1\n",
    "        if (i % 100000 == 0): print(error)\n",
    "    print(\"Total number of iterations for GD: \" + str(i))\n",
    "    return w"
   ]
  },
  {
   "cell_type": "code",
   "execution_count": 19,
   "metadata": {},
   "outputs": [
    {
     "name": "stdout",
     "output_type": "stream",
     "text": [
      "2.494885028876222e-07\n",
      "1.216953803402859e-07\n",
      "7.996590438497953e-08\n",
      "5.936297182770836e-08\n",
      "4.711462959080732e-08\n",
      "3.9008322227765887e-08\n",
      "3.3252902289664207e-08\n",
      "2.895849137592109e-08\n",
      "2.56333569687972e-08\n",
      "2.2983824011827782e-08\n",
      "2.0823770353942102e-08\n",
      "1.9029567293161825e-08\n",
      "1.7515908380284564e-08\n",
      "1.6222044352144305e-08\n",
      "1.5103549469517436e-08\n",
      "1.4127190281683732e-08\n",
      "1.3267613851817113e-08\n",
      "1.2505145635392858e-08\n",
      "1.182428580145768e-08\n",
      "1.121265924513656e-08\n",
      "1.066026689591635e-08\n",
      "1.0158942342913091e-08\n",
      "Total number of iterations for GD: 2233762\n",
      "Weights 6 Learned\n",
      "\n"
     ]
    }
   ],
   "source": [
    "#WEIGHTS LEARNING FUNCTION CALLS\n",
    "#alpha_init = 10^-6, error = 10^-8\n",
    "if (dataset_indicator <= 2): weights = gradientDescent(training_X, training_Y, 0.0001, 0, 0.000001)\n",
    "else: weights = gradientDescent(training_X, training_Y, 0.000001, 0, 0.00000001)\n",
    "print(\"Weights \" + str(i) + \" Learned\\n\")"
   ]
  },
  {
   "cell_type": "code",
   "execution_count": 20,
   "metadata": {},
   "outputs": [
    {
     "name": "stdout",
     "output_type": "stream",
     "text": [
      "Weights 6 Saved\n",
      "\n"
     ]
    }
   ],
   "source": [
    "#SAVING WEIGHTS\n",
    "np.save(\"weights_\" + str(i) + \"_from_GD.npy\", weights)\n",
    "print(\"Weights \" + str(i) + \" Saved\\n\")"
   ]
  }
 ],
 "metadata": {
  "kernelspec": {
   "display_name": "Python 3",
   "language": "python",
   "name": "python3"
  },
  "language_info": {
   "codemirror_mode": {
    "name": "ipython",
    "version": 3
   },
   "file_extension": ".py",
   "mimetype": "text/x-python",
   "name": "python",
   "nbconvert_exporter": "python",
   "pygments_lexer": "ipython3",
   "version": "3.7.0"
  }
 },
 "nbformat": 4,
 "nbformat_minor": 2
}
