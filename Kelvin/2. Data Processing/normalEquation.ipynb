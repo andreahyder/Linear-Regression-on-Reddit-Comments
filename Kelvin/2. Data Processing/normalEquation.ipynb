{
 "cells": [
  {
   "cell_type": "code",
   "execution_count": 1,
   "metadata": {},
   "outputs": [],
   "source": [
    "import numpy as np"
   ]
  },
  {
   "cell_type": "code",
   "execution_count": 13,
   "metadata": {},
   "outputs": [
    {
     "name": "stdout",
     "output_type": "stream",
     "text": [
      "Dataset 2 Loaded\n",
      "\n"
     ]
    }
   ],
   "source": [
    "#LOAD DATA\n",
    "dataset_indicator = 2\n",
    "i = dataset_indicator\n",
    "weights = []\n",
    "training_X = np.load(\"..\\\\1. Data Preprocessing\\\\training_data_X_\" + str(i) + \".npy\")\n",
    "training_Y = np.load(\"..\\\\1. Data Preprocessing\\\\training_data_Y_\" + str(i) + \".npy\")\n",
    "print(\"Dataset \" + str(i) + \" Loaded\\n\")"
   ]
  },
  {
   "cell_type": "code",
   "execution_count": 14,
   "metadata": {},
   "outputs": [],
   "source": [
    "#NORMAL EQUATION SOLVER\n",
    "def normalEquation(X, Y):\n",
    "    XT = X.transpose()\n",
    "    XTX = np.matmul(XT, X)\n",
    "    a = np.linalg.solve(XTX, np.identity(len(XTX)))\n",
    "    temp = np.matmul(a, XT)\n",
    "    w = np.matmul(temp, Y)\n",
    "    return w"
   ]
  },
  {
   "cell_type": "code",
   "execution_count": 15,
   "metadata": {},
   "outputs": [
    {
     "name": "stdout",
     "output_type": "stream",
     "text": [
      "Weights 2 Learned\n",
      "\n"
     ]
    }
   ],
   "source": [
    "#WEIGHTS LEARNING FUNCTION CALLS\n",
    "weights = normalEquation(training_X, training_Y)\n",
    "print(\"Weights \" + str(i) + \" Learned\\n\")"
   ]
  },
  {
   "cell_type": "code",
   "execution_count": 16,
   "metadata": {},
   "outputs": [
    {
     "name": "stdout",
     "output_type": "stream",
     "text": [
      "Weights 2 Saved\n",
      "\n"
     ]
    }
   ],
   "source": [
    "#SAVING WEIGHTS\n",
    "np.save(\"weights_\" + str(i) + \"_from_NE.npy\", weights)\n",
    "print(\"Weights \" + str(i) + \" Saved\\n\")"
   ]
  },
  {
   "cell_type": "code",
   "execution_count": 17,
   "metadata": {},
   "outputs": [
    {
     "name": "stdout",
     "output_type": "stream",
     "text": [
      "[ 8.51717893e-01 -1.25123357e-02 -1.42449654e-02 -1.21386484e-02\n",
      " -1.10803129e-02  7.05860534e-03  2.28690385e-03 -4.72126011e-02\n",
      "  5.12558275e-02  3.10847896e-02  1.49733868e-02 -1.05955527e-03\n",
      " -3.55348073e-02  5.03754219e-02  2.43368064e-02 -4.82259948e-02\n",
      " -5.71928794e-02  2.63534317e-02  7.00626697e-02  4.90227200e-02\n",
      " -1.80108834e-02  7.66115457e-03 -3.68973479e-02  1.41291797e-02\n",
      " -4.65930078e-02 -2.93100758e-02  9.79607964e-03  2.21562621e-02\n",
      "  4.23153712e-02  1.59438764e-02  2.91773265e-02 -1.46675065e-02\n",
      "  1.89543143e-02  1.93802686e-02 -1.78843240e-02  4.41168370e-02\n",
      " -2.18669798e-03 -1.41303272e-02 -5.97036555e-02 -3.36101891e-02\n",
      "  2.25856962e-02  4.30532314e-04  3.51343410e-02  2.87127892e-02\n",
      " -8.22107088e-03 -3.77601786e-02  7.42718722e-02 -5.50005871e-02\n",
      "  2.18219211e-02  1.51938697e-02 -5.16647390e-03  1.33791298e-02\n",
      "  3.57561793e-03 -5.43040997e-02 -3.77725693e-02  3.72519823e-03\n",
      " -3.45689147e-01 -1.71468169e-03 -7.18522808e-02 -2.20494488e-02\n",
      "  1.35318614e-01 -2.37439353e-01 -1.07122912e+00  3.73683654e-01]\n"
     ]
    }
   ],
   "source": [
    "print(weights)"
   ]
  }
 ],
 "metadata": {
  "kernelspec": {
   "display_name": "Python 3",
   "language": "python",
   "name": "python3"
  },
  "language_info": {
   "codemirror_mode": {
    "name": "ipython",
    "version": 3
   },
   "file_extension": ".py",
   "mimetype": "text/x-python",
   "name": "python",
   "nbconvert_exporter": "python",
   "pygments_lexer": "ipython3",
   "version": "3.7.0"
  }
 },
 "nbformat": 4,
 "nbformat_minor": 2
}
